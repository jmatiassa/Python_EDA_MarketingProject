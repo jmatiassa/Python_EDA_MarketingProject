{
 "cells": [
  {
   "cell_type": "code",
   "execution_count": 32,
   "metadata": {},
   "outputs": [],
   "source": [
    "import reverse_geocoder as rg  # Librería para realizar la geocodificación inversa\n",
    "import pandas as pd           # Librería para manejar DataFrame\n",
    "\n",
    "#importación de src codigo de soporte con las funciones necesarias para la limpieza\n",
    "import sys\n",
    "sys.path.append(\"..\")\n",
    "from src import sp_geocode as sp\n",
    "from src import sp_eda_limpieza\n"
   ]
  },
  {
   "cell_type": "code",
   "execution_count": 33,
   "metadata": {},
   "outputs": [],
   "source": [
    "#ajustes de visualización\n",
    "pd.set_option('display.max_columns', None)"
   ]
  },
  {
   "cell_type": "code",
   "execution_count": 34,
   "metadata": {},
   "outputs": [],
   "source": [
    "df_geocode_ba=pd.read_csv(r\"C:\\Users\\matis\\Desktop\\EDA_MK_POWER\\data\\eda_limpieza_files\\eda_mk_ok.csv\",usecols=lambda col:not col.startswith('Unnamed'))"
   ]
  },
  {
   "cell_type": "code",
   "execution_count": 35,
   "metadata": {},
   "outputs": [
    {
     "data": {
      "text/plain": [
       "Index(['Age', 'Job', 'Marital', 'Education', 'Default', 'Housing', 'Loan',\n",
       "       'Contact', 'Duration', 'Campaign', 'Previous', 'Poutcome',\n",
       "       'Emp.var.rate', 'Cons.price.idx', 'Cons.conf.idx', 'Euribor3m',\n",
       "       'Nr.employed', 'Subscribed', 'Date', 'Latitude', 'Longitude', 'ID',\n",
       "       'Income', 'Kidhome', 'Teenhome', 'Dt_Customer', 'NumWebVisitsMonth'],\n",
       "      dtype='object')"
      ]
     },
     "execution_count": 35,
     "metadata": {},
     "output_type": "execute_result"
    }
   ],
   "source": [
    "df_geocode_ba.columns"
   ]
  },
  {
   "cell_type": "code",
   "execution_count": 36,
   "metadata": {},
   "outputs": [
    {
     "name": "stdout",
     "output_type": "stream",
     "text": [
      "[{'lat': '43.25011', 'lon': '-79.84963', 'name': 'Hamilton', 'admin1': 'Ontario', 'admin2': '', 'cc': 'CA'}, {'lat': '40.71427', 'lon': '-74.00597', 'name': 'New York City', 'admin1': 'New York', 'admin2': '', 'cc': 'US'}]\n"
     ]
    }
   ],
   "source": [
    "prueba_coordenadas = [(43.238, -79.899), (40.7128, -74.0060)]\n",
    "try:\n",
    "    resultados = rg.search(prueba_coordenadas)\n",
    "    print(resultados)\n",
    "except Exception as e:\n",
    "    print(f\"Error en reverse_geocoder: {e}\")\n"
   ]
  },
  {
   "cell_type": "code",
   "execution_count": 37,
   "metadata": {},
   "outputs": [
    {
     "name": "stdout",
     "output_type": "stream",
     "text": [
      "   latitude  longitude           City Country                      Region\n",
      "0   43.2380   -79.8990       Hamilton      CA                     Ontario\n",
      "1   40.7128   -74.0060  New York City      US                    New York\n",
      "2   48.8566     2.3522          Paris      FR               Ile-de-France\n",
      "3  -33.8688   151.2093         Sydney      AU             New South Wales\n",
      "4   91.0000    50.0000      Iskateley      RU  Nenetskiy Avtonomnyy Okrug\n"
     ]
    }
   ],
   "source": [
    "def geolocalizar(df, latcol, loncol, batch_size=100):\n",
    "    # Crear lista de coordenadas y resultados\n",
    "    coordenadas_lotes = []\n",
    "    resultados = []\n",
    "\n",
    "    # Iterar sobre el DataFrame fila por fila\n",
    "    for index, row in df.iterrows():\n",
    "        lat = row.get(latcol, None)\n",
    "        lon = row.get(loncol, None)\n",
    "\n",
    "        # Validar coordenadas: si falta una, asignar resultado nulo\n",
    "        if pd.isna(lat) or pd.isna(lon):\n",
    "            resultados.append((None, None, None))\n",
    "        else:\n",
    "            coordenadas_lotes.append((lat, lon))\n",
    "\n",
    "    # Procesar en lotes las coordenadas válidas\n",
    "    for i in range(0, len(coordenadas_lotes), batch_size):\n",
    "        lote = coordenadas_lotes[i:i + batch_size]\n",
    "        try:\n",
    "            lote_resultados = rg.search(lote)\n",
    "            resultados.extend([(r.get('name', None), r.get('cc', None), r.get('admin1', None)) for r in lote_resultados])\n",
    "        except Exception as e:\n",
    "            print(f\"Error al procesar lote {lote}: {e}\")\n",
    "            resultados.extend([(None, None, None)] * len(lote))  # Rellenar con None en caso de error\n",
    "\n",
    "    # Agregar resultados al DataFrame original\n",
    "    ciudades, paises, regiones = zip(*resultados)\n",
    "    df['City'] = ciudades\n",
    "    df['Country'] = paises\n",
    "    df['Region'] = regiones\n",
    "\n",
    "    return df\n",
    "\n",
    "# Ejemplo de prueba con un DataFrame\n",
    "data = {\n",
    "    'latitude': [43.238, 40.7128, 48.8566, -33.8688, 91.0],  # Incluye un valor fuera de rango\n",
    "    'longitude': [-79.899, -74.0060, 2.3522, 151.2093, 50.0]\n",
    "}\n",
    "df = pd.DataFrame(data)\n",
    "\n",
    "# Aplicar la función\n",
    "df_resultado = geolocalizar(df, 'latitude', 'longitude', batch_size=2)\n",
    "\n",
    "# Mostrar el resultado\n",
    "print(df_resultado)"
   ]
  },
  {
   "cell_type": "code",
   "execution_count": 38,
   "metadata": {},
   "outputs": [],
   "source": [
    "df_geocoded=sp.geolocalizar(df_geocode_ba,'Latitude','Longitude')"
   ]
  },
  {
   "cell_type": "code",
   "execution_count": 39,
   "metadata": {},
   "outputs": [
    {
     "data": {
      "text/plain": [
       "Index(['Age', 'Job', 'Marital', 'Education', 'Default', 'Housing', 'Loan',\n",
       "       'Contact', 'Duration', 'Campaign', 'Previous', 'Poutcome',\n",
       "       'Emp.var.rate', 'Cons.price.idx', 'Cons.conf.idx', 'Euribor3m',\n",
       "       'Nr.employed', 'Subscribed', 'Date', 'Latitude', 'Longitude', 'ID',\n",
       "       'Income', 'Kidhome', 'Teenhome', 'Dt_Customer', 'NumWebVisitsMonth',\n",
       "       'City', 'Country', 'Region'],\n",
       "      dtype='object')"
      ]
     },
     "execution_count": 39,
     "metadata": {},
     "output_type": "execute_result"
    }
   ],
   "source": [
    "df_geocoded.columns"
   ]
  },
  {
   "cell_type": "code",
   "execution_count": null,
   "metadata": {},
   "outputs": [],
   "source": []
  },
  {
   "cell_type": "code",
   "execution_count": 40,
   "metadata": {},
   "outputs": [
    {
     "data": {
      "text/html": [
       "<div>\n",
       "<style scoped>\n",
       "    .dataframe tbody tr th:only-of-type {\n",
       "        vertical-align: middle;\n",
       "    }\n",
       "\n",
       "    .dataframe tbody tr th {\n",
       "        vertical-align: top;\n",
       "    }\n",
       "\n",
       "    .dataframe thead th {\n",
       "        text-align: right;\n",
       "    }\n",
       "</style>\n",
       "<table border=\"1\" class=\"dataframe\">\n",
       "  <thead>\n",
       "    <tr style=\"text-align: right;\">\n",
       "      <th></th>\n",
       "      <th>Age</th>\n",
       "      <th>Job</th>\n",
       "      <th>Marital</th>\n",
       "      <th>Education</th>\n",
       "      <th>Default</th>\n",
       "      <th>Housing</th>\n",
       "      <th>Loan</th>\n",
       "      <th>Contact</th>\n",
       "      <th>Duration</th>\n",
       "      <th>Campaign</th>\n",
       "      <th>Previous</th>\n",
       "      <th>Poutcome</th>\n",
       "      <th>Emp.var.rate</th>\n",
       "      <th>Cons.price.idx</th>\n",
       "      <th>Cons.conf.idx</th>\n",
       "      <th>Euribor3m</th>\n",
       "      <th>Nr.employed</th>\n",
       "      <th>Subscribed</th>\n",
       "      <th>Date</th>\n",
       "      <th>Latitude</th>\n",
       "      <th>Longitude</th>\n",
       "      <th>ID</th>\n",
       "      <th>Income</th>\n",
       "      <th>Kidhome</th>\n",
       "      <th>Teenhome</th>\n",
       "      <th>Dt_Customer</th>\n",
       "      <th>NumWebVisitsMonth</th>\n",
       "      <th>City</th>\n",
       "      <th>Country</th>\n",
       "      <th>Region</th>\n",
       "    </tr>\n",
       "  </thead>\n",
       "  <tbody>\n",
       "    <tr>\n",
       "      <th>37961</th>\n",
       "      <td>33.0</td>\n",
       "      <td>services</td>\n",
       "      <td>married</td>\n",
       "      <td>basic_4y</td>\n",
       "      <td>no</td>\n",
       "      <td>no</td>\n",
       "      <td>no</td>\n",
       "      <td>telephone</td>\n",
       "      <td>152.0</td>\n",
       "      <td>1.0</td>\n",
       "      <td>0.0</td>\n",
       "      <td>nonexistent</td>\n",
       "      <td>1.1</td>\n",
       "      <td>93.994</td>\n",
       "      <td>-36.4</td>\n",
       "      <td>4.857</td>\n",
       "      <td>5191.0</td>\n",
       "      <td>no</td>\n",
       "      <td>2019-01-12</td>\n",
       "      <td>45.888</td>\n",
       "      <td>-86.047</td>\n",
       "      <td>e168f8a4-2378-422b-a89d-11b83172f997</td>\n",
       "      <td>36998</td>\n",
       "      <td>0</td>\n",
       "      <td>0</td>\n",
       "      <td>2012-01-04</td>\n",
       "      <td>8</td>\n",
       "      <td>Walpole Island</td>\n",
       "      <td>CA</td>\n",
       "      <td>Ontario</td>\n",
       "    </tr>\n",
       "    <tr>\n",
       "      <th>15570</th>\n",
       "      <td>46.0</td>\n",
       "      <td>entrepreneur</td>\n",
       "      <td>married</td>\n",
       "      <td>basic_9y</td>\n",
       "      <td>no</td>\n",
       "      <td>no</td>\n",
       "      <td>no</td>\n",
       "      <td>cellular</td>\n",
       "      <td>169.0</td>\n",
       "      <td>1.0</td>\n",
       "      <td>0.0</td>\n",
       "      <td>nonexistent</td>\n",
       "      <td>1.4</td>\n",
       "      <td>93.444</td>\n",
       "      <td>-36.1</td>\n",
       "      <td>4.966</td>\n",
       "      <td>5228.0</td>\n",
       "      <td>no</td>\n",
       "      <td>2015-07-09</td>\n",
       "      <td>30.616</td>\n",
       "      <td>-124.554</td>\n",
       "      <td>5c3c08c2-3b0c-4111-b406-bc1668b81dd8</td>\n",
       "      <td>35200</td>\n",
       "      <td>2</td>\n",
       "      <td>1</td>\n",
       "      <td>2012-03-27</td>\n",
       "      <td>11</td>\n",
       "      <td>Sahuaripa</td>\n",
       "      <td>MX</td>\n",
       "      <td>Sonora</td>\n",
       "    </tr>\n",
       "    <tr>\n",
       "      <th>34047</th>\n",
       "      <td>52.0</td>\n",
       "      <td>admin.</td>\n",
       "      <td>divorced</td>\n",
       "      <td>basic_9y</td>\n",
       "      <td>no</td>\n",
       "      <td>yes</td>\n",
       "      <td>yes</td>\n",
       "      <td>cellular</td>\n",
       "      <td>9.0</td>\n",
       "      <td>5.0</td>\n",
       "      <td>1.0</td>\n",
       "      <td>failure</td>\n",
       "      <td>-1.8</td>\n",
       "      <td>93.075</td>\n",
       "      <td>-47.1</td>\n",
       "      <td>1.405</td>\n",
       "      <td>5099.0</td>\n",
       "      <td>no</td>\n",
       "      <td>2017-01-05</td>\n",
       "      <td>42.182</td>\n",
       "      <td>-98.153</td>\n",
       "      <td>c9ef2b43-8a59-4a82-8fdc-94405bf132a6</td>\n",
       "      <td>41771</td>\n",
       "      <td>2</td>\n",
       "      <td>1</td>\n",
       "      <td>2014-10-29</td>\n",
       "      <td>19</td>\n",
       "      <td>Huxley</td>\n",
       "      <td>US</td>\n",
       "      <td>Iowa</td>\n",
       "    </tr>\n",
       "    <tr>\n",
       "      <th>35109</th>\n",
       "      <td>51.0</td>\n",
       "      <td>retired</td>\n",
       "      <td>married</td>\n",
       "      <td>university_degree</td>\n",
       "      <td>NaN</td>\n",
       "      <td>no</td>\n",
       "      <td>no</td>\n",
       "      <td>cellular</td>\n",
       "      <td>94.0</td>\n",
       "      <td>3.0</td>\n",
       "      <td>0.0</td>\n",
       "      <td>nonexistent</td>\n",
       "      <td>1.4</td>\n",
       "      <td>93.918</td>\n",
       "      <td>-42.7</td>\n",
       "      <td>4.961</td>\n",
       "      <td>5228.0</td>\n",
       "      <td>no</td>\n",
       "      <td>2018-05-06</td>\n",
       "      <td>30.088</td>\n",
       "      <td>-122.020</td>\n",
       "      <td>d03face9-ec62-4d1a-8f1e-960ad12dca54</td>\n",
       "      <td>21478</td>\n",
       "      <td>1</td>\n",
       "      <td>1</td>\n",
       "      <td>2014-04-24</td>\n",
       "      <td>10</td>\n",
       "      <td>Alamo</td>\n",
       "      <td>US</td>\n",
       "      <td>Nevada</td>\n",
       "    </tr>\n",
       "    <tr>\n",
       "      <th>23506</th>\n",
       "      <td>36.0</td>\n",
       "      <td>blue_collar</td>\n",
       "      <td>divorced</td>\n",
       "      <td>high_school</td>\n",
       "      <td>no</td>\n",
       "      <td>no</td>\n",
       "      <td>no</td>\n",
       "      <td>telephone</td>\n",
       "      <td>531.0</td>\n",
       "      <td>2.0</td>\n",
       "      <td>0.0</td>\n",
       "      <td>nonexistent</td>\n",
       "      <td>1.1</td>\n",
       "      <td>93.994</td>\n",
       "      <td>-36.4</td>\n",
       "      <td>4.856</td>\n",
       "      <td>5191.0</td>\n",
       "      <td>no</td>\n",
       "      <td>2015-08-31</td>\n",
       "      <td>25.687</td>\n",
       "      <td>-76.940</td>\n",
       "      <td>8b275c6f-23a4-4846-a761-f6e135b28952</td>\n",
       "      <td>100910</td>\n",
       "      <td>2</td>\n",
       "      <td>0</td>\n",
       "      <td>2012-03-17</td>\n",
       "      <td>24</td>\n",
       "      <td>Talihina</td>\n",
       "      <td>US</td>\n",
       "      <td>Oklahoma</td>\n",
       "    </tr>\n",
       "  </tbody>\n",
       "</table>\n",
       "</div>"
      ],
      "text/plain": [
       "        Age           Job   Marital          Education Default Housing Loan  \\\n",
       "37961  33.0      services   married           basic_4y      no      no   no   \n",
       "15570  46.0  entrepreneur   married           basic_9y      no      no   no   \n",
       "34047  52.0        admin.  divorced           basic_9y      no     yes  yes   \n",
       "35109  51.0       retired   married  university_degree     NaN      no   no   \n",
       "23506  36.0   blue_collar  divorced        high_school      no      no   no   \n",
       "\n",
       "         Contact  Duration  Campaign  Previous     Poutcome  Emp.var.rate  \\\n",
       "37961  telephone     152.0       1.0       0.0  nonexistent           1.1   \n",
       "15570   cellular     169.0       1.0       0.0  nonexistent           1.4   \n",
       "34047   cellular       9.0       5.0       1.0      failure          -1.8   \n",
       "35109   cellular      94.0       3.0       0.0  nonexistent           1.4   \n",
       "23506  telephone     531.0       2.0       0.0  nonexistent           1.1   \n",
       "\n",
       "       Cons.price.idx  Cons.conf.idx  Euribor3m  Nr.employed Subscribed  \\\n",
       "37961          93.994          -36.4      4.857       5191.0         no   \n",
       "15570          93.444          -36.1      4.966       5228.0         no   \n",
       "34047          93.075          -47.1      1.405       5099.0         no   \n",
       "35109          93.918          -42.7      4.961       5228.0         no   \n",
       "23506          93.994          -36.4      4.856       5191.0         no   \n",
       "\n",
       "             Date  Latitude  Longitude                                    ID  \\\n",
       "37961  2019-01-12    45.888    -86.047  e168f8a4-2378-422b-a89d-11b83172f997   \n",
       "15570  2015-07-09    30.616   -124.554  5c3c08c2-3b0c-4111-b406-bc1668b81dd8   \n",
       "34047  2017-01-05    42.182    -98.153  c9ef2b43-8a59-4a82-8fdc-94405bf132a6   \n",
       "35109  2018-05-06    30.088   -122.020  d03face9-ec62-4d1a-8f1e-960ad12dca54   \n",
       "23506  2015-08-31    25.687    -76.940  8b275c6f-23a4-4846-a761-f6e135b28952   \n",
       "\n",
       "       Income  Kidhome  Teenhome Dt_Customer  NumWebVisitsMonth  \\\n",
       "37961   36998        0         0  2012-01-04                  8   \n",
       "15570   35200        2         1  2012-03-27                 11   \n",
       "34047   41771        2         1  2014-10-29                 19   \n",
       "35109   21478        1         1  2014-04-24                 10   \n",
       "23506  100910        2         0  2012-03-17                 24   \n",
       "\n",
       "                 City Country    Region  \n",
       "37961  Walpole Island      CA   Ontario  \n",
       "15570       Sahuaripa      MX    Sonora  \n",
       "34047          Huxley      US      Iowa  \n",
       "35109           Alamo      US    Nevada  \n",
       "23506        Talihina      US  Oklahoma  "
      ]
     },
     "metadata": {},
     "output_type": "display_data"
    },
    {
     "name": "stdout",
     "output_type": "stream",
     "text": [
      "--------------------\n",
      "INFO\n",
      "<class 'pandas.core.frame.DataFrame'>\n",
      "RangeIndex: 43170 entries, 0 to 43169\n",
      "Data columns (total 30 columns):\n",
      " #   Column             Non-Null Count  Dtype  \n",
      "---  ------             --------------  -----  \n",
      " 0   Age                37880 non-null  float64\n",
      " 1   Job                42655 non-null  object \n",
      " 2   Marital            42915 non-null  object \n",
      " 3   Education          41193 non-null  object \n",
      " 4   Default            34019 non-null  object \n",
      " 5   Housing            41974 non-null  object \n",
      " 6   Loan               41974 non-null  object \n",
      " 7   Contact            43000 non-null  object \n",
      " 8   Duration           43000 non-null  float64\n",
      " 9   Campaign           43000 non-null  float64\n",
      " 10  Previous           43000 non-null  float64\n",
      " 11  Poutcome           43000 non-null  object \n",
      " 12  Emp.var.rate       43000 non-null  float64\n",
      " 13  Cons.price.idx     42529 non-null  float64\n",
      " 14  Cons.conf.idx      43000 non-null  float64\n",
      " 15  Euribor3m          33744 non-null  float64\n",
      " 16  Nr.employed        43000 non-null  float64\n",
      " 17  Subscribed         43000 non-null  object \n",
      " 18  Date               42752 non-null  object \n",
      " 19  Latitude           43000 non-null  float64\n",
      " 20  Longitude          43000 non-null  float64\n",
      " 21  ID                 43170 non-null  object \n",
      " 22  Income             43170 non-null  int64  \n",
      " 23  Kidhome            43170 non-null  int64  \n",
      " 24  Teenhome           43170 non-null  int64  \n",
      " 25  Dt_Customer        43170 non-null  object \n",
      " 26  NumWebVisitsMonth  43170 non-null  int64  \n",
      " 27  City               43000 non-null  object \n",
      " 28  Country            43000 non-null  object \n",
      " 29  Region             43000 non-null  object \n",
      "dtypes: float64(11), int64(4), object(15)\n",
      "memory usage: 9.9+ MB\n"
     ]
    },
    {
     "data": {
      "text/plain": [
       "None"
      ]
     },
     "metadata": {},
     "output_type": "display_data"
    },
    {
     "name": "stdout",
     "output_type": "stream",
     "text": [
      "--------------------\n",
      "NULOS\n"
     ]
    },
    {
     "data": {
      "text/plain": [
       "Age                  12.25\n",
       "Job                   1.19\n",
       "Marital               0.59\n",
       "Education             4.58\n",
       "Default              21.20\n",
       "Housing               2.77\n",
       "Loan                  2.77\n",
       "Contact               0.39\n",
       "Duration              0.39\n",
       "Campaign              0.39\n",
       "Previous              0.39\n",
       "Poutcome              0.39\n",
       "Emp.var.rate          0.39\n",
       "Cons.price.idx        1.48\n",
       "Cons.conf.idx         0.39\n",
       "Euribor3m            21.83\n",
       "Nr.employed           0.39\n",
       "Subscribed            0.39\n",
       "Date                  0.97\n",
       "Latitude              0.39\n",
       "Longitude             0.39\n",
       "ID                    0.00\n",
       "Income                0.00\n",
       "Kidhome               0.00\n",
       "Teenhome              0.00\n",
       "Dt_Customer           0.00\n",
       "NumWebVisitsMonth     0.00\n",
       "City                  0.39\n",
       "Country               0.39\n",
       "Region                0.39\n",
       "dtype: float64"
      ]
     },
     "metadata": {},
     "output_type": "display_data"
    },
    {
     "name": "stdout",
     "output_type": "stream",
     "text": [
      "--------------------\n",
      "duplicados\n",
      "0\n",
      "VALUE COUNT\n"
     ]
    },
    {
     "data": {
      "text/plain": [
       "Job\n",
       "admin.           10873\n",
       "blue_collar       9654\n",
       "technician        7026\n",
       "services          4162\n",
       "management        3050\n",
       "retired           1790\n",
       "entrepreneur      1522\n",
       "self_employed     1489\n",
       "housemaid         1123\n",
       "unemployed        1063\n",
       "student            903\n",
       "Name: count, dtype: int64"
      ]
     },
     "metadata": {},
     "output_type": "display_data"
    },
    {
     "name": "stdout",
     "output_type": "stream",
     "text": [
      "--------------------\n"
     ]
    },
    {
     "data": {
      "text/plain": [
       "Marital\n",
       "married     25999\n",
       "single      12105\n",
       "divorced     4811\n",
       "Name: count, dtype: int64"
      ]
     },
     "metadata": {},
     "output_type": "display_data"
    },
    {
     "name": "stdout",
     "output_type": "stream",
     "text": [
      "--------------------\n"
     ]
    },
    {
     "data": {
      "text/plain": [
       "Education\n",
       "university_degree      12722\n",
       "high_school             9925\n",
       "basic_9y                6309\n",
       "professional_course     5477\n",
       "basic_4y                4356\n",
       "basic_6y                2386\n",
       "illiterate                18\n",
       "Name: count, dtype: int64"
      ]
     },
     "metadata": {},
     "output_type": "display_data"
    },
    {
     "name": "stdout",
     "output_type": "stream",
     "text": [
      "--------------------\n"
     ]
    },
    {
     "data": {
      "text/plain": [
       "Default\n",
       "no     34016\n",
       "yes        3\n",
       "Name: count, dtype: int64"
      ]
     },
     "metadata": {},
     "output_type": "display_data"
    },
    {
     "name": "stdout",
     "output_type": "stream",
     "text": [
      "--------------------\n"
     ]
    },
    {
     "data": {
      "text/plain": [
       "Housing\n",
       "yes    22498\n",
       "no     19476\n",
       "Name: count, dtype: int64"
      ]
     },
     "metadata": {},
     "output_type": "display_data"
    },
    {
     "name": "stdout",
     "output_type": "stream",
     "text": [
      "--------------------\n"
     ]
    },
    {
     "data": {
      "text/plain": [
       "Loan\n",
       "no     35442\n",
       "yes     6532\n",
       "Name: count, dtype: int64"
      ]
     },
     "metadata": {},
     "output_type": "display_data"
    },
    {
     "name": "stdout",
     "output_type": "stream",
     "text": [
      "--------------------\n"
     ]
    },
    {
     "data": {
      "text/plain": [
       "Contact\n",
       "cellular     27396\n",
       "telephone    15604\n",
       "Name: count, dtype: int64"
      ]
     },
     "metadata": {},
     "output_type": "display_data"
    },
    {
     "name": "stdout",
     "output_type": "stream",
     "text": [
      "--------------------\n"
     ]
    },
    {
     "data": {
      "text/plain": [
       "Poutcome\n",
       "nonexistent    37103\n",
       "failure         4461\n",
       "success         1436\n",
       "Name: count, dtype: int64"
      ]
     },
     "metadata": {},
     "output_type": "display_data"
    },
    {
     "name": "stdout",
     "output_type": "stream",
     "text": [
      "--------------------\n"
     ]
    },
    {
     "data": {
      "text/plain": [
       "Subscribed\n",
       "no     38156\n",
       "yes     4844\n",
       "Name: count, dtype: int64"
      ]
     },
     "metadata": {},
     "output_type": "display_data"
    },
    {
     "name": "stdout",
     "output_type": "stream",
     "text": [
      "--------------------\n"
     ]
    },
    {
     "data": {
      "text/plain": [
       "Date\n",
       "2018-02-28    95\n",
       "2016-02-28    94\n",
       "2015-02-28    92\n",
       "2017-02-28    89\n",
       "2019-02-28    85\n",
       "              ..\n",
       "2015-05-04    11\n",
       "2015-11-20    10\n",
       "2017-04-04    10\n",
       "2015-04-14    10\n",
       "2019-12-21    10\n",
       "Name: count, Length: 1825, dtype: int64"
      ]
     },
     "metadata": {},
     "output_type": "display_data"
    },
    {
     "name": "stdout",
     "output_type": "stream",
     "text": [
      "--------------------\n"
     ]
    },
    {
     "data": {
      "text/plain": [
       "ID\n",
       "fffe84df-4e63-4465-82de-0d9821d919bf    1\n",
       "0000e811-006e-4404-b535-89bf6cd96553    1\n",
       "ffdbe65e-3249-456c-a8f9-544935b40fdd    1\n",
       "ffdbe151-4f82-4c19-b63c-841c91fc3084    1\n",
       "ffda2b4b-0b68-493e-ac68-f81614c57f5d    1\n",
       "                                       ..\n",
       "0006c8fd-9dea-439d-a3b9-571b3901ff58    1\n",
       "000625bd-cc08-4653-b8b7-1853c458527d    1\n",
       "0004e1d1-958d-4abf-a57c-9b9c7be887a0    1\n",
       "00024507-c59b-4eee-86d5-cc341b96eb6d    1\n",
       "000165f9-20c0-4cb5-bd47-6233b92655c1    1\n",
       "Name: count, Length: 43170, dtype: int64"
      ]
     },
     "metadata": {},
     "output_type": "display_data"
    },
    {
     "name": "stdout",
     "output_type": "stream",
     "text": [
      "--------------------\n"
     ]
    },
    {
     "data": {
      "text/plain": [
       "Dt_Customer\n",
       "2012-01-11    79\n",
       "2012-08-10    79\n",
       "2012-12-28    75\n",
       "2012-11-25    72\n",
       "2012-12-21    72\n",
       "              ..\n",
       "2013-09-09    15\n",
       "2013-02-12    15\n",
       "2013-06-05    15\n",
       "2013-10-18    13\n",
       "2013-10-24    12\n",
       "Name: count, Length: 1096, dtype: int64"
      ]
     },
     "metadata": {},
     "output_type": "display_data"
    },
    {
     "name": "stdout",
     "output_type": "stream",
     "text": [
      "--------------------\n"
     ]
    },
    {
     "data": {
      "text/plain": [
       "City\n",
       "Hamilton          937\n",
       "Buxton            778\n",
       "Cockburn Town     748\n",
       "Bahia Asuncion    726\n",
       "Lompoc            656\n",
       "                 ... \n",
       "Fairland            1\n",
       "Lawrence            1\n",
       "Hallstead           1\n",
       "Lake Mohegan        1\n",
       "Carencro            1\n",
       "Name: count, Length: 6581, dtype: int64"
      ]
     },
     "metadata": {},
     "output_type": "display_data"
    },
    {
     "name": "stdout",
     "output_type": "stream",
     "text": [
      "--------------------\n"
     ]
    },
    {
     "data": {
      "text/plain": [
       "Country\n",
       "US    32237\n",
       "MX     4783\n",
       "CA     3147\n",
       "BS     1552\n",
       "BM      909\n",
       "TC      277\n",
       "CU       95\n",
       "Name: count, dtype: int64"
      ]
     },
     "metadata": {},
     "output_type": "display_data"
    },
    {
     "name": "stdout",
     "output_type": "stream",
     "text": [
      "--------------------\n"
     ]
    },
    {
     "data": {
      "text/plain": [
       "Region\n",
       "California        2954\n",
       "Texas             2559\n",
       "North Carolina    1745\n",
       "Ontario           1512\n",
       "Montana           1483\n",
       "                  ... \n",
       "Harbour Island      18\n",
       "Freeport            15\n",
       "Spanish Wells       15\n",
       "Black Point          7\n",
       "Artemisa             4\n",
       "Name: count, Length: 88, dtype: int64"
      ]
     },
     "metadata": {},
     "output_type": "display_data"
    },
    {
     "name": "stdout",
     "output_type": "stream",
     "text": [
      "--------------------\n",
      "VALORES NUMÉRICOS\n"
     ]
    },
    {
     "data": {
      "text/html": [
       "<div>\n",
       "<style scoped>\n",
       "    .dataframe tbody tr th:only-of-type {\n",
       "        vertical-align: middle;\n",
       "    }\n",
       "\n",
       "    .dataframe tbody tr th {\n",
       "        vertical-align: top;\n",
       "    }\n",
       "\n",
       "    .dataframe thead th {\n",
       "        text-align: right;\n",
       "    }\n",
       "</style>\n",
       "<table border=\"1\" class=\"dataframe\">\n",
       "  <thead>\n",
       "    <tr style=\"text-align: right;\">\n",
       "      <th></th>\n",
       "      <th>count</th>\n",
       "      <th>mean</th>\n",
       "      <th>std</th>\n",
       "      <th>min</th>\n",
       "      <th>25%</th>\n",
       "      <th>50%</th>\n",
       "      <th>75%</th>\n",
       "      <th>max</th>\n",
       "    </tr>\n",
       "  </thead>\n",
       "  <tbody>\n",
       "    <tr>\n",
       "      <th>Age</th>\n",
       "      <td>37880.0</td>\n",
       "      <td>39.977112</td>\n",
       "      <td>10.437957</td>\n",
       "      <td>17.000</td>\n",
       "      <td>32.00000</td>\n",
       "      <td>38.0000</td>\n",
       "      <td>47.00000</td>\n",
       "      <td>98.000</td>\n",
       "    </tr>\n",
       "    <tr>\n",
       "      <th>Duration</th>\n",
       "      <td>43000.0</td>\n",
       "      <td>257.739279</td>\n",
       "      <td>258.666033</td>\n",
       "      <td>0.000</td>\n",
       "      <td>102.00000</td>\n",
       "      <td>179.0000</td>\n",
       "      <td>319.00000</td>\n",
       "      <td>4918.000</td>\n",
       "    </tr>\n",
       "    <tr>\n",
       "      <th>Campaign</th>\n",
       "      <td>43000.0</td>\n",
       "      <td>2.567233</td>\n",
       "      <td>2.772294</td>\n",
       "      <td>1.000</td>\n",
       "      <td>1.00000</td>\n",
       "      <td>2.0000</td>\n",
       "      <td>3.00000</td>\n",
       "      <td>56.000</td>\n",
       "    </tr>\n",
       "    <tr>\n",
       "      <th>Previous</th>\n",
       "      <td>43000.0</td>\n",
       "      <td>0.174023</td>\n",
       "      <td>0.497366</td>\n",
       "      <td>0.000</td>\n",
       "      <td>0.00000</td>\n",
       "      <td>0.0000</td>\n",
       "      <td>0.00000</td>\n",
       "      <td>7.000</td>\n",
       "    </tr>\n",
       "    <tr>\n",
       "      <th>Emp.var.rate</th>\n",
       "      <td>43000.0</td>\n",
       "      <td>0.077128</td>\n",
       "      <td>1.573898</td>\n",
       "      <td>-3.400</td>\n",
       "      <td>-1.80000</td>\n",
       "      <td>1.1000</td>\n",
       "      <td>1.40000</td>\n",
       "      <td>1.400</td>\n",
       "    </tr>\n",
       "    <tr>\n",
       "      <th>Cons.price.idx</th>\n",
       "      <td>42529.0</td>\n",
       "      <td>93.574219</td>\n",
       "      <td>0.579548</td>\n",
       "      <td>92.201</td>\n",
       "      <td>93.07500</td>\n",
       "      <td>93.7490</td>\n",
       "      <td>93.99400</td>\n",
       "      <td>94.767</td>\n",
       "    </tr>\n",
       "    <tr>\n",
       "      <th>Cons.conf.idx</th>\n",
       "      <td>43000.0</td>\n",
       "      <td>-40.509049</td>\n",
       "      <td>4.637186</td>\n",
       "      <td>-50.800</td>\n",
       "      <td>-42.70000</td>\n",
       "      <td>-41.8000</td>\n",
       "      <td>-36.40000</td>\n",
       "      <td>-26.900</td>\n",
       "    </tr>\n",
       "    <tr>\n",
       "      <th>Euribor3m</th>\n",
       "      <td>33744.0</td>\n",
       "      <td>3.616521</td>\n",
       "      <td>1.737117</td>\n",
       "      <td>0.634</td>\n",
       "      <td>1.34400</td>\n",
       "      <td>4.8570</td>\n",
       "      <td>4.96100</td>\n",
       "      <td>5.045</td>\n",
       "    </tr>\n",
       "    <tr>\n",
       "      <th>Nr.employed</th>\n",
       "      <td>43000.0</td>\n",
       "      <td>5166.835721</td>\n",
       "      <td>72.337206</td>\n",
       "      <td>4964.000</td>\n",
       "      <td>5099.00000</td>\n",
       "      <td>5191.0000</td>\n",
       "      <td>5228.00000</td>\n",
       "      <td>5228.000</td>\n",
       "    </tr>\n",
       "    <tr>\n",
       "      <th>Latitude</th>\n",
       "      <td>43000.0</td>\n",
       "      <td>36.856697</td>\n",
       "      <td>7.225948</td>\n",
       "      <td>24.396</td>\n",
       "      <td>30.61475</td>\n",
       "      <td>36.7610</td>\n",
       "      <td>43.11325</td>\n",
       "      <td>49.384</td>\n",
       "    </tr>\n",
       "    <tr>\n",
       "      <th>Longitude</th>\n",
       "      <td>43000.0</td>\n",
       "      <td>-95.939067</td>\n",
       "      <td>16.752282</td>\n",
       "      <td>-124.997</td>\n",
       "      <td>-110.49425</td>\n",
       "      <td>-95.8995</td>\n",
       "      <td>-81.42775</td>\n",
       "      <td>-66.937</td>\n",
       "    </tr>\n",
       "    <tr>\n",
       "      <th>Income</th>\n",
       "      <td>43170.0</td>\n",
       "      <td>93227.389622</td>\n",
       "      <td>50498.181989</td>\n",
       "      <td>5841.000</td>\n",
       "      <td>49608.00000</td>\n",
       "      <td>93009.5000</td>\n",
       "      <td>136740.50000</td>\n",
       "      <td>180802.000</td>\n",
       "    </tr>\n",
       "    <tr>\n",
       "      <th>Kidhome</th>\n",
       "      <td>43170.0</td>\n",
       "      <td>1.004749</td>\n",
       "      <td>0.815996</td>\n",
       "      <td>0.000</td>\n",
       "      <td>0.00000</td>\n",
       "      <td>1.0000</td>\n",
       "      <td>2.00000</td>\n",
       "      <td>2.000</td>\n",
       "    </tr>\n",
       "    <tr>\n",
       "      <th>Teenhome</th>\n",
       "      <td>43170.0</td>\n",
       "      <td>0.998633</td>\n",
       "      <td>0.816008</td>\n",
       "      <td>0.000</td>\n",
       "      <td>0.00000</td>\n",
       "      <td>1.0000</td>\n",
       "      <td>2.00000</td>\n",
       "      <td>2.000</td>\n",
       "    </tr>\n",
       "    <tr>\n",
       "      <th>NumWebVisitsMonth</th>\n",
       "      <td>43170.0</td>\n",
       "      <td>16.591290</td>\n",
       "      <td>9.241769</td>\n",
       "      <td>1.000</td>\n",
       "      <td>9.00000</td>\n",
       "      <td>17.0000</td>\n",
       "      <td>25.00000</td>\n",
       "      <td>32.000</td>\n",
       "    </tr>\n",
       "  </tbody>\n",
       "</table>\n",
       "</div>"
      ],
      "text/plain": [
       "                     count          mean           std       min          25%  \\\n",
       "Age                37880.0     39.977112     10.437957    17.000     32.00000   \n",
       "Duration           43000.0    257.739279    258.666033     0.000    102.00000   \n",
       "Campaign           43000.0      2.567233      2.772294     1.000      1.00000   \n",
       "Previous           43000.0      0.174023      0.497366     0.000      0.00000   \n",
       "Emp.var.rate       43000.0      0.077128      1.573898    -3.400     -1.80000   \n",
       "Cons.price.idx     42529.0     93.574219      0.579548    92.201     93.07500   \n",
       "Cons.conf.idx      43000.0    -40.509049      4.637186   -50.800    -42.70000   \n",
       "Euribor3m          33744.0      3.616521      1.737117     0.634      1.34400   \n",
       "Nr.employed        43000.0   5166.835721     72.337206  4964.000   5099.00000   \n",
       "Latitude           43000.0     36.856697      7.225948    24.396     30.61475   \n",
       "Longitude          43000.0    -95.939067     16.752282  -124.997   -110.49425   \n",
       "Income             43170.0  93227.389622  50498.181989  5841.000  49608.00000   \n",
       "Kidhome            43170.0      1.004749      0.815996     0.000      0.00000   \n",
       "Teenhome           43170.0      0.998633      0.816008     0.000      0.00000   \n",
       "NumWebVisitsMonth  43170.0     16.591290      9.241769     1.000      9.00000   \n",
       "\n",
       "                          50%           75%         max  \n",
       "Age                   38.0000      47.00000      98.000  \n",
       "Duration             179.0000     319.00000    4918.000  \n",
       "Campaign               2.0000       3.00000      56.000  \n",
       "Previous               0.0000       0.00000       7.000  \n",
       "Emp.var.rate           1.1000       1.40000       1.400  \n",
       "Cons.price.idx        93.7490      93.99400      94.767  \n",
       "Cons.conf.idx        -41.8000     -36.40000     -26.900  \n",
       "Euribor3m              4.8570       4.96100       5.045  \n",
       "Nr.employed         5191.0000    5228.00000    5228.000  \n",
       "Latitude              36.7610      43.11325      49.384  \n",
       "Longitude            -95.8995     -81.42775     -66.937  \n",
       "Income             93009.5000  136740.50000  180802.000  \n",
       "Kidhome                1.0000       2.00000       2.000  \n",
       "Teenhome               1.0000       2.00000       2.000  \n",
       "NumWebVisitsMonth     17.0000      25.00000      32.000  "
      ]
     },
     "metadata": {},
     "output_type": "display_data"
    }
   ],
   "source": [
    "sp_eda_limpieza.eda_preliminar(df_geocoded)"
   ]
  },
  {
   "cell_type": "code",
   "execution_count": 41,
   "metadata": {},
   "outputs": [],
   "source": [
    "df_geocode_ba.to_csv('bankadditional_geocoded.csv')"
   ]
  },
  {
   "cell_type": "code",
   "execution_count": null,
   "metadata": {},
   "outputs": [],
   "source": []
  }
 ],
 "metadata": {
  "kernelspec": {
   "display_name": "venv",
   "language": "python",
   "name": "python3"
  },
  "language_info": {
   "codemirror_mode": {
    "name": "ipython",
    "version": 3
   },
   "file_extension": ".py",
   "mimetype": "text/x-python",
   "name": "python",
   "nbconvert_exporter": "python",
   "pygments_lexer": "ipython3",
   "version": "3.13.0"
  }
 },
 "nbformat": 4,
 "nbformat_minor": 2
}
